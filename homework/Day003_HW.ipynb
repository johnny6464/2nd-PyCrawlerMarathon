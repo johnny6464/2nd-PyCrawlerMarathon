{
 "cells": [
  {
   "cell_type": "markdown",
   "metadata": {},
   "source": [
    "# Python 下載XML檔案與解析\n",
    "\n",
    "\n",
    "* 了解 xml 檔案格式與內容\n",
    "* 能夠利用套件存取 xml 格式的檔案\n"
   ]
  },
  {
   "cell_type": "markdown",
   "metadata": {},
   "source": [
    "## 作業目標\n",
    "\n",
    "* 比較一下範例檔案中的「File I/O」與「xmltodict」讀出來的內容有什麼差異\n",
    "\n",
    "* 根據範例檔案的結果：\n",
    "    1. 請問高雄市有多少地區有溫度資料？\n",
    "    2. 請取出每一個地區所記錄的第一個時間點跟溫度\n",
    "    3. 請取出第一個地區所記錄的每一個時間點跟溫度"
   ]
  },
  {
   "cell_type": "markdown",
   "metadata": {},
   "source": [
    "### 比較一下範例檔案中的「File I/O」與「xmltodict」讀出來的內容有什麼差異\n"
   ]
  },
  {
   "cell_type": "code",
   "execution_count": 1,
   "metadata": {},
   "outputs": [
    {
     "name": "stdout",
     "output_type": "stream",
     "text": [
      "<?xml version=\"1.0\" encoding=\"UTF-8\"?>\n",
      "<CUPOY>\n",
      "    <Title>爬蟲馬拉松</Title>\n",
      "    <Author>Wei</Author>\n",
      "    <Chapters>\n",
      "        <Chapter name=\"01\">資料來源與存取</Chapter>\n",
      "        <Chapter name=\"02\">靜態網頁爬蟲</Chapter>\n",
      "        <Chapter name=\"03\">動態網頁爬蟲</Chapter>\n",
      "    </Chapters>\n",
      "</CUPOY>\n",
      "OrderedDict([('CUPOY', OrderedDict([('Title', '爬蟲馬拉松'), ('Author', 'Wei'), ('Chapters', OrderedDict([('Chapter', [OrderedDict([('@name', '01'), ('#text', '資料來源與存取')]), OrderedDict([('@name', '02'), ('#text', '靜態網頁爬蟲')]), OrderedDict([('@name', '03'), ('#text', '動態網頁爬蟲')])])]))]))])\n"
     ]
    }
   ],
   "source": [
    "import xmltodict\n",
    "\n",
    "with open('./data/sample.xml', encoding='utf-8') as file:\n",
    "    print(file.read())\n",
    "\n",
    "with open('./data/sample.xml', encoding='utf-8') as file:\n",
    "    print(xmltodict.parse(file.read()))"
   ]
  },
  {
   "cell_type": "markdown",
   "metadata": {},
   "source": [
    "### 根據範例檔案的結果：\n",
    "\n",
    "1. 請問高雄市有多少地區有溫度資料？\n",
    "2. 請取出每一個地區所記錄的第一個時間點跟溫度\n",
    "3. 請取出第一個地區所記錄的每一個時間點跟溫度"
   ]
  },
  {
   "cell_type": "code",
   "execution_count": 2,
   "metadata": {},
   "outputs": [
    {
     "name": "stdout",
     "output_type": "stream",
     "text": [
      "共有 38 個地區\n"
     ]
    }
   ],
   "source": [
    "# 1. 請問高雄市有多少地區有溫度資料？\n",
    "with open('./data/64_72hr_CH.xml', encoding='utf-8') as file:\n",
    "    data = xmltodict.parse(file.read())['cwbopendata']['dataset']\n",
    "    locations = data['locations']['location']\n",
    "    print(f\"共有 {len(locations)} 個地區\")"
   ]
  },
  {
   "cell_type": "code",
   "execution_count": 3,
   "metadata": {},
   "outputs": [
    {
     "name": "stdout",
     "output_type": "stream",
     "text": [
      "紀錄時間2019-06-28T12:00:00+08:00\n",
      "鹽埕區 33度\n",
      "鼓山區 33度\n",
      "左營區 33度\n",
      "楠梓區 34度\n",
      "三民區 32度\n",
      "新興區 33度\n",
      "前金區 33度\n",
      "苓雅區 33度\n",
      "前鎮區 33度\n",
      "旗津區 32度\n",
      "小港區 33度\n",
      "鳳山區 34度\n",
      "林園區 33度\n",
      "大寮區 34度\n",
      "大樹區 34度\n",
      "大社區 34度\n",
      "仁武區 33度\n",
      "鳥松區 34度\n",
      "岡山區 34度\n",
      "橋頭區 35度\n",
      "燕巢區 34度\n",
      "田寮區 34度\n",
      "阿蓮區 34度\n",
      "路竹區 33度\n",
      "湖內區 33度\n",
      "茄萣區 33度\n",
      "永安區 32度\n",
      "彌陀區 32度\n",
      "梓官區 32度\n",
      "旗山區 34度\n",
      "美濃區 34度\n",
      "六龜區 34度\n",
      "甲仙區 33度\n",
      "杉林區 36度\n",
      "內門區 34度\n",
      "茂林區 34度\n",
      "桃源區 31度\n",
      "那瑪夏區 29度\n"
     ]
    }
   ],
   "source": [
    "# 2. 請取出每一個地區所記錄的第一個時間點跟溫度\n",
    "print(f\"紀錄時間{locations[0]['weatherElement'][0]['time'][0]['dataTime']}\")\n",
    "for loc in locations:\n",
    "    print(f\"{loc['locationName']} {loc['weatherElement'][0]['time'][0]['elementValue']['value']}度\")"
   ]
  },
  {
   "cell_type": "code",
   "execution_count": 4,
   "metadata": {},
   "outputs": [
    {
     "name": "stdout",
     "output_type": "stream",
     "text": [
      "鹽埕區氣象資料:\n",
      "紀錄時間: 2019-06-28T12:00:00+08:00 ---> 33度\n",
      "紀錄時間: 2019-06-28T15:00:00+08:00 ---> 33度\n",
      "紀錄時間: 2019-06-28T18:00:00+08:00 ---> 32度\n",
      "紀錄時間: 2019-06-28T21:00:00+08:00 ---> 30度\n",
      "紀錄時間: 2019-06-29T00:00:00+08:00 ---> 30度\n",
      "紀錄時間: 2019-06-29T03:00:00+08:00 ---> 29度\n",
      "紀錄時間: 2019-06-29T06:00:00+08:00 ---> 28度\n",
      "紀錄時間: 2019-06-29T09:00:00+08:00 ---> 31度\n",
      "紀錄時間: 2019-06-29T12:00:00+08:00 ---> 32度\n",
      "紀錄時間: 2019-06-29T15:00:00+08:00 ---> 32度\n",
      "紀錄時間: 2019-06-29T18:00:00+08:00 ---> 31度\n",
      "紀錄時間: 2019-06-29T21:00:00+08:00 ---> 30度\n",
      "紀錄時間: 2019-06-30T00:00:00+08:00 ---> 29度\n",
      "紀錄時間: 2019-06-30T03:00:00+08:00 ---> 28度\n",
      "紀錄時間: 2019-06-30T06:00:00+08:00 ---> 28度\n",
      "紀錄時間: 2019-06-30T09:00:00+08:00 ---> 31度\n",
      "紀錄時間: 2019-06-30T12:00:00+08:00 ---> 32度\n",
      "紀錄時間: 2019-06-30T15:00:00+08:00 ---> 32度\n",
      "紀錄時間: 2019-06-30T18:00:00+08:00 ---> 31度\n",
      "紀錄時間: 2019-06-30T21:00:00+08:00 ---> 30度\n",
      "紀錄時間: 2019-07-01T00:00:00+08:00 ---> 29度\n",
      "紀錄時間: 2019-07-01T03:00:00+08:00 ---> 29度\n",
      "紀錄時間: 2019-07-01T06:00:00+08:00 ---> 28度\n",
      "紀錄時間: 2019-07-01T09:00:00+08:00 ---> 31度\n"
     ]
    }
   ],
   "source": [
    "# 3. 請取出第一個地區所記錄的每一個時間點跟溫度\n",
    "location = locations[0]\n",
    "print(f\"{location['locationName']}氣象資料:\")\n",
    "for time in location['weatherElement'][0]['time']:\n",
    "    print(f\"紀錄時間: {time['dataTime']} ---> {time['elementValue']['value']}度\")"
   ]
  }
 ],
 "metadata": {
  "kernelspec": {
   "display_name": "Python 3",
   "language": "python",
   "name": "python3"
  },
  "language_info": {
   "codemirror_mode": {
    "name": "ipython",
    "version": 3
   },
   "file_extension": ".py",
   "mimetype": "text/x-python",
   "name": "python",
   "nbconvert_exporter": "python",
   "pygments_lexer": "ipython3",
   "version": "3.7.4"
  }
 },
 "nbformat": 4,
 "nbformat_minor": 2
}
