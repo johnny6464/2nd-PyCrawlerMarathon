{
 "cells": [
  {
   "cell_type": "markdown",
   "metadata": {},
   "source": [
    "# API 資料串接 - 以 Dcard API 實作範例\n",
    "\n",
    "* 了解 Dcard API 使用方式與回傳內容\n",
    "* 撰寫程式存取 API 且解析 JSON 格式資料\n"
   ]
  },
  {
   "cell_type": "markdown",
   "metadata": {},
   "source": [
    "## 作業目標\n",
    "\n",
    "* 請利用 API: https://www.dcard.tw/_api/forums/pet/posts?popular=true 回答下列問題：\n",
    "\n",
    "1. 這個 API 一次會回傳幾筆資料？每一筆資料包含哪些欄位？\n",
    "2. 取出每一筆資料的「標題」、「貼文時間」、「留言人數」、「按讚人數」\n",
    "3. 計算熱門/非熱門文章的「平均留言人數」與「平均按讚人數」"
   ]
  },
  {
   "cell_type": "code",
   "execution_count": 1,
   "metadata": {},
   "outputs": [
    {
     "name": "stdout",
     "output_type": "stream",
     "text": [
      "資料數量: 30\n",
      "\n",
      "包含欄位:\n",
      "id\n",
      "title\n",
      "excerpt\n",
      "anonymousSchool\n",
      "anonymousDepartment\n",
      "pinned\n",
      "forumId\n",
      "replyId\n",
      "createdAt\n",
      "updatedAt\n",
      "commentCount\n",
      "likeCount\n",
      "withNickname\n",
      "tags\n",
      "topics\n",
      "meta\n",
      "forumName\n",
      "forumAlias\n",
      "gender\n",
      "school\n",
      "replyTitle\n",
      "mediaMeta\n",
      "reactions\n",
      "hidden\n",
      "customStyle\n",
      "isSuspiciousAccount\n",
      "layout\n",
      "withImages\n",
      "withVideos\n",
      "media\n",
      "reportReasonText\n",
      "postAvatar\n"
     ]
    }
   ],
   "source": [
    "# 1. 這個 API 一次會回傳幾筆資料？每一筆資料包含哪些欄位？\n",
    "import requests\n",
    "import json\n",
    "\n",
    "response = requests.get(\"https://www.dcard.tw/_api/forums/pet/posts?popular=true\")\n",
    "json_data = json.loads(response.text)\n",
    "print(f\"資料數量: {len(json_data)}\\n\")\n",
    "\n",
    "print(\"包含欄位:\")\n",
    "for col in json_data[0]:\n",
    "    print(col)"
   ]
  },
  {
   "cell_type": "code",
   "execution_count": 2,
   "metadata": {},
   "outputs": [
    {
     "name": "stdout",
     "output_type": "stream",
     "text": [
      "標題:當你想洗澡 | 貼文時間:2020-02-26T00:16:31.227Z\n",
      "留言人數:106 | 按讚人數:7742\n",
      "\n",
      "標題:可不可以不要剪指甲 | 貼文時間:2020-02-25T17:59:09.589Z\n",
      "留言人數:55 | 按讚人數:1345\n",
      "\n",
      "標題:獨一無二的公仔柴🥺 | 貼文時間:2020-02-26T00:50:14.770Z\n",
      "留言人數:21 | 按讚人數:1092\n",
      "\n",
      "標題:養了一隻小老虎！？ | 貼文時間:2020-02-26T14:44:47.830Z\n",
      "留言人數:19 | 按讚人數:504\n",
      "\n",
      "標題:你要工人？ | 貼文時間:2020-02-26T18:35:16.716Z\n",
      "留言人數:4 | 按讚人數:109\n",
      "\n",
      "標題:有人有看過這麼有喜感的貓嗎 | 貼文時間:2020-02-27T00:41:45.740Z\n",
      "留言人數:5 | 按讚人數:36\n",
      "\n",
      "標題:我家鸚鵡終於敢洗澡了 | 貼文時間:2020-02-26T03:59:15.416Z\n",
      "留言人數:11 | 按讚人數:34\n",
      "\n",
      "標題:我家的黑狗🐶越黑我越愛 | 貼文時間:2020-02-25T18:35:34.215Z\n",
      "留言人數:10 | 按讚人數:29\n",
      "\n",
      "標題:天氣好想拍貓 天氣不好想拍貓 | 貼文時間:2020-02-26T17:05:42.877Z\n",
      "留言人數:0 | 按讚人數:26\n",
      "\n",
      "標題:柴上柴 | 貼文時間:2020-02-26T06:47:10.008Z\n",
      "留言人數:1 | 按讚人數:24\n",
      "\n",
      "標題:我的夢幻玉米蛇😭 | 貼文時間:2020-02-26T17:59:21.848Z\n",
      "留言人數:5 | 按讚人數:21\n",
      "\n",
      "標題:讓天竺鼠可以上高鐵 | 貼文時間:2020-02-26T03:17:07.735Z\n",
      "留言人數:8 | 按讚人數:20\n",
      "\n",
      "標題:小蝦蝦不知道可不可以上熱門🥺 | 貼文時間:2020-02-26T22:13:53.583Z\n",
      "留言人數:3 | 按讚人數:18\n",
      "\n",
      "標題:柯基遊櫻花季-短腿到底怎麼拍啦 | 貼文時間:2020-02-26T04:03:56.080Z\n",
      "留言人數:4 | 按讚人數:17\n",
      "\n",
      "標題:#圖 飼料也有命中注定？！ | 貼文時間:2020-02-26T10:30:31.175Z\n",
      "留言人數:1 | 按讚人數:16\n",
      "\n",
      "標題:家寵醜照大公開 | 貼文時間:2020-02-26T09:51:32.971Z\n",
      "留言人數:7 | 按讚人數:16\n",
      "\n",
      "標題:家裡的貓 很吵怎麼辦 | 貼文時間:2020-02-25T21:05:50.671Z\n",
      "留言人數:7 | 按讚人數:13\n",
      "\n",
      "標題:新聞蛙蛙蛙 | 貼文時間:2020-02-26T11:04:03.310Z\n",
      "留言人數:8 | 按讚人數:11\n",
      "\n",
      "標題:換牙什麼都想咬的頭痛貓貓🦷 | 貼文時間:2020-02-26T04:03:47.759Z\n",
      "留言人數:2 | 按讚人數:11\n",
      "\n",
      "標題:（藏獒）天氣這麼好就是要睡覺啊 | 貼文時間:2020-02-26T10:52:25.053Z\n",
      "留言人數:3 | 按讚人數:10\n",
      "\n",
      "標題:台中兔兔送養🐰 | 貼文時間:2020-02-26T08:30:58.229Z\n",
      "留言人數:5 | 按讚人數:9\n",
      "\n",
      "標題:家有隻混了米克斯的金吉拉 | 貼文時間:2020-02-26T08:26:38.245Z\n",
      "留言人數:0 | 按讚人數:9\n",
      "\n",
      "標題:《狸貓豆皮》表情需要管理一下的柴😂 | 貼文時間:2020-02-25T19:26:58.886Z\n",
      "留言人數:0 | 按讚人數:9\n",
      "\n",
      "標題:#圖#鬆獅蜥#鎖匠師傅？ | 貼文時間:2020-02-26T14:20:09.986Z\n",
      "留言人數:2 | 按讚人數:7\n",
      "\n",
      "標題:同學你的貓豪口愛(灬ºωº灬)♡ | 貼文時間:2020-02-26T10:36:21.560Z\n",
      "留言人數:0 | 按讚人數:7\n",
      "\n",
      "標題:求幫推！屏東貓咪走失 | 貼文時間:2020-02-26T03:10:52.018Z\n",
      "留言人數:0 | 按讚人數:7\n",
      "\n",
      "標題:我家蛙寶們 | 貼文時間:2020-02-25T19:58:39.850Z\n",
      "留言人數:0 | 按讚人數:7\n",
      "\n",
      "標題:來一份豪邁 | 貼文時間:2020-02-26T09:55:33.185Z\n",
      "留言人數:0 | 按讚人數:6\n",
      "\n",
      "標題:不喜歡洗澡的狗 | 貼文時間:2020-02-27T01:06:35.270Z\n",
      "留言人數:3 | 按讚人數:5\n",
      "\n",
      "標題:貓哪裡好 | 貼文時間:2020-02-25T23:09:41.888Z\n",
      "留言人數:19 | 按讚人數:5\n",
      "\n"
     ]
    }
   ],
   "source": [
    "# 2. 取出每一筆資料的「標題」、「貼文時間」、「留言人數」、「按讚人數」\n",
    "for data in json_data:\n",
    "    print(f\"標題:{data['title']} | 貼文時間:{data['createdAt']}\")\n",
    "    print(f\"留言人數:{data['commentCount']} | 按讚人數:{data['likeCount']}\\n\")"
   ]
  },
  {
   "cell_type": "code",
   "execution_count": 3,
   "metadata": {},
   "outputs": [
    {
     "name": "stdout",
     "output_type": "stream",
     "text": [
      "熱門文章 平均留言人數:10.30 | 平均按讚人數:372.17\n",
      "非熱門文章 平均留言人數:2.87 | 平均按讚人數:30.83\n"
     ]
    }
   ],
   "source": [
    "# 3. 計算熱門/非熱門文章的「平均留言人數」與「平均按讚人數」\n",
    "popular_data = requests.get(\"https://www.dcard.tw/_api/forums/pet/posts?popular=true\")\n",
    "normal_data = requests.get(\"https://www.dcard.tw/_api/forums/pet/posts?popular=false\")\n",
    "\n",
    "popular_json = json.loads(popular_data.text)\n",
    "normal_json = json.loads(normal_data.text)\n",
    "\n",
    "popular_sum_comment = 0\n",
    "popular_sum_like = 0\n",
    "for data in popular_json:\n",
    "    popular_sum_comment += data['commentCount']\n",
    "    popular_sum_like += data['likeCount']\n",
    "    \n",
    "normal_sum_comment = 0\n",
    "normal_sum_like = 0\n",
    "for data in normal_json:\n",
    "    normal_sum_comment += data['commentCount']\n",
    "    normal_sum_like += data['likeCount']\n",
    "    \n",
    "print(f\"熱門文章 平均留言人數:{popular_sum_comment/30:.2f} | 平均按讚人數:{popular_sum_like/30:.2f}\")\n",
    "print(f\"非熱門文章 平均留言人數:{normal_sum_comment/30:.2f} | 平均按讚人數:{normal_sum_like/30:.2f}\")"
   ]
  }
 ],
 "metadata": {
  "kernelspec": {
   "display_name": "Python 3",
   "language": "python",
   "name": "python3"
  },
  "language_info": {
   "codemirror_mode": {
    "name": "ipython",
    "version": 3
   },
   "file_extension": ".py",
   "mimetype": "text/x-python",
   "name": "python",
   "nbconvert_exporter": "python",
   "pygments_lexer": "ipython3",
   "version": "3.7.4"
  }
 },
 "nbformat": 4,
 "nbformat_minor": 2
}
