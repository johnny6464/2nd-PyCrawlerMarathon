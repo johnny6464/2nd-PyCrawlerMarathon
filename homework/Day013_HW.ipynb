{
 "cells": [
  {
   "cell_type": "markdown",
   "metadata": {},
   "source": [
    "# PTT 網路爬蟲實作練習\n",
    "\n",
    "\n",
    "* 能夠利用 Request + BeatifulSour 撰寫爬蟲，並存放到合適的資料結構\n"
   ]
  },
  {
   "cell_type": "markdown",
   "metadata": {},
   "source": [
    "## 作業目標\n",
    "\n",
    "根據範例 ，完成以下問題：\n",
    "\n",
    "* ① 印出最新文章的「作者」「標題」「時間」\n",
    "* ② 印出第一頁所有文章的「作者」「標題」「時間」\n"
   ]
  },
  {
   "cell_type": "markdown",
   "metadata": {},
   "source": [
    "### ① 印出最新文章的「作者」「標題」「時間」"
   ]
  },
  {
   "cell_type": "code",
   "execution_count": 28,
   "metadata": {},
   "outputs": [
    {
     "name": "stdout",
     "output_type": "stream",
     "text": [
      "Author: playstore\n",
      "Title: Re: [情報] 湖人助教：LBJ在昨日賽前主動表示他要防\n",
      "Date:  3/10 \n",
      "\n",
      "Author: namie810303\n",
      "Title: [公告]水桶 \n",
      "Date:  3/10 \n",
      "\n",
      "Author: phoenix286\n",
      "Title: [情報] Norman Powell 左踝扭傷\n",
      "Date:  3/10 \n",
      "\n",
      "Author: hide0325\n",
      "Title: [新聞] 快艇補強內線 10天短約簽諾亞\n",
      "Date:  3/10 \n",
      "\n",
      "Author: Vedan\n",
      "Title: [公告] 板規v6.8\n",
      "Date:  5/24 \n",
      "\n",
      "Author: qazwsx879345\n",
      "Title: [公告] 版主上任相關事項 \n",
      "Date: 10/25 \n",
      "\n",
      "Author: Acetoxy\n",
      "Title: [情報] SEASON Schedule 賽程 March 19–20\n",
      "Date:  3/02 \n",
      "\n",
      "Author: Vedan\n",
      "Title: Fw: [公告] 即日起開放 NTU 信箱註冊帳號\n",
      "Date:  3/04 \n",
      "\n",
      "Author: Vedan\n",
      "Title: [公告] 第一次被退文，可在三天後刪除退文\n",
      "Date:  3/09 \n",
      "\n"
     ]
    }
   ],
   "source": [
    "import requests\n",
    "from bs4 import BeautifulSoup\n",
    "\n",
    "response = requests.get(\"https://www.ptt.cc/bbs/NBA/index.html\")\n",
    "soup = BeautifulSoup(response.text)\n",
    "articles = soup.find(id=\"main-container\").find_all(class_=\"r-ent\")\n",
    "for article in articles:\n",
    "    if article.find(class_=\"author\").text != '-':\n",
    "        print(\"Author:\", article.find(class_=\"author\").text)\n",
    "        print(\"Title:\", article.find(class_=\"title\").a.text)\n",
    "        print(\"Date:\", article.find(class_=\"date\").text, \"\\n\")"
   ]
  },
  {
   "cell_type": "markdown",
   "metadata": {},
   "source": [
    "### ② 印出第一頁所有文章的「作者」「標題」「時間」"
   ]
  },
  {
   "cell_type": "code",
   "execution_count": 29,
   "metadata": {},
   "outputs": [
    {
     "name": "stdout",
     "output_type": "stream",
     "text": [
      "Author: Price\n",
      "Title: [轉錄]Lyotard 對於太陽板討論串的結論\n",
      "Date:  5/16 \n",
      "\n",
      "Author: Price\n",
      "Title: [公告] 請停止一切關於本次活動的發言\n",
      "Date:  5/31 \n",
      "\n",
      "Author: Frankaze\n",
      "Title: [轉錄]跟之前那篇比起來 我覺得這篇也應該轉過來\n",
      "Date:  6/08 \n",
      "\n",
      "Author: Frankaze\n",
      "Title: [轉錄]再轉一篇好文來\n",
      "Date:  6/08 \n",
      "\n",
      "Author: Price\n",
      "Title: [轉錄][情報] 夏洛特山貓系列\n",
      "Date:  6/10 \n",
      "\n",
      "Author: Price\n",
      "Title: [轉錄]Re: [心得] 真是受不了糗爺....\n",
      "Date:  6/10 \n",
      "\n",
      "Author: Price\n",
      "Title: [轉錄]總冠軍賽NO.2觀後感\n",
      "Date:  6/10 \n",
      "\n",
      "Author: AmuroNamie\n",
      "Title: [心得] Rasheed Wallace\n",
      "Date:  6/11 \n",
      "\n",
      "Author: toptree\n",
      "Title: 掌控球賽的男人\n",
      "Date:  6/12 \n",
      "\n",
      "Author: skchang\n",
      "Title: [閒聊] 說說2004季後賽名場面回顧\n",
      "Date:  6/12 \n",
      "\n",
      "Author: shineup\n",
      "Title: [心得] 其實說穿了 就是活塞的防守太可怕了\n",
      "Date:  6/12 \n",
      "\n",
      "Author: cOvi\n",
      "Title: Re: [閒聊] 說說2004季後賽名場面回顧\n",
      "Date:  6/12 \n",
      "\n",
      "Author: ykshih\n",
      "Title: Re: [閒聊] 說說2004季後賽名場面回顧\n",
      "Date:  6/12 \n",
      "\n",
      "Author: Frankaze\n",
      "Title: Re: [閒聊] 說說2004季後賽名場面回顧\n",
      "Date:  6/12 \n",
      "\n",
      "Author: Price\n",
      "Title: [轉錄]Re: 總冠軍賽NO.3觀後感\n",
      "Date:  6/14 \n",
      "\n",
      "Author: Frankaze\n",
      "Title: [轉錄]Re: 總冠軍賽NO.3觀後感\n",
      "Date:  6/14 \n",
      "\n",
      "Author: star1\n",
      "Title: Re: [轉錄]Re: 總冠軍賽NO.3觀後感\n",
      "Date:  6/14 \n",
      "\n",
      "Author: coldspring\n",
      "Title: Re: [轉錄]Re: 總冠軍賽NO.3觀後感\n",
      "Date:  6/14 \n",
      "\n",
      "Author: airbear\n",
      "Title: Re: Kobe is frustrated...\n",
      "Date:  6/14 \n",
      "\n",
      "Author: pennykidd\n",
      "Title: Re: [轉錄]Re: 總冠軍賽NO.3觀後感\n",
      "Date:  6/14 \n",
      "\n"
     ]
    }
   ],
   "source": [
    "response = requests.get(\"https://www.ptt.cc/bbs/NBA/index1.html\")\n",
    "soup = BeautifulSoup(response.text)\n",
    "articles = soup.find(id=\"main-container\").find_all(class_=\"r-ent\")\n",
    "for article in articles:\n",
    "    if article.find(class_=\"author\").text != '-':\n",
    "        print(\"Author:\", article.find(class_=\"author\").text)\n",
    "        print(\"Title:\", article.find(class_=\"title\").a.text)\n",
    "        print(\"Date:\", article.find(class_=\"date\").text, \"\\n\")"
   ]
  },
  {
   "cell_type": "markdown",
   "metadata": {},
   "source": [
    "### ③ 試著爬爬看其他版的文章"
   ]
  },
  {
   "cell_type": "code",
   "execution_count": 30,
   "metadata": {},
   "outputs": [
    {
     "name": "stdout",
     "output_type": "stream",
     "text": [
      "Author: TheSims4\n",
      "Title: Re: [請益] 這場股災受傷最重的會不會是存股族\n",
      "Date:  3/10 \n",
      "\n",
      "Author: snoopy790428\n",
      "Title: [其他] 其實我比分析師強多了對吧\n",
      "Date:  3/10 \n",
      "\n",
      "Author: tacovirus\n",
      "Title: [標的] 00642U 公園冒險買\n",
      "Date:  3/10 \n",
      "\n",
      "Author: KZS\n",
      "Title: [請益] 今天0050和006208為何跌幅 差這麼多？\n",
      "Date:  3/10 \n",
      "\n",
      "Author: EX37\n",
      "Title: [心得] 一半\n",
      "Date:  3/10 \n",
      "\n",
      "Author: pypypuppy\n",
      "Title: [請益] 新光金為何股價這麼低？\n",
      "Date:  3/10 \n",
      "\n",
      "Author: IanLi\n",
      "Title: [公告] 精華區導覽Q&A\n",
      "Date:  1/25 \n",
      "\n",
      "Author: eyespot\n",
      "Title: [公告] Stock 板規V2.6             (2019/06/20)\n",
      "Date: 11/03 \n",
      "\n",
      "Author: noldorelf\n",
      "Title: [公告] 關於武漢肺炎新聞規範\n",
      "Date:  1/25 \n",
      "\n",
      "Author: vendan5566\n",
      "Title: [閒聊] 2020/03/10 盤中閒聊\n",
      "Date:  3/10 \n",
      "\n"
     ]
    }
   ],
   "source": [
    "response = requests.get(\"https://www.ptt.cc/bbs/Stock/index.html\")\n",
    "soup = BeautifulSoup(response.text)\n",
    "articles = soup.find(id=\"main-container\").find_all(class_=\"r-ent\")\n",
    "for article in articles:\n",
    "    if article.find(class_=\"author\").text != '-':\n",
    "        print(\"Author:\", article.find(class_=\"author\").text)\n",
    "        print(\"Title:\", article.find(class_=\"title\").a.text)\n",
    "        print(\"Date:\", article.find(class_=\"date\").text, \"\\n\")"
   ]
  }
 ],
 "metadata": {
  "kernelspec": {
   "display_name": "Python 3",
   "language": "python",
   "name": "python3"
  },
  "language_info": {
   "codemirror_mode": {
    "name": "ipython",
    "version": 3
   },
   "file_extension": ".py",
   "mimetype": "text/x-python",
   "name": "python",
   "nbconvert_exporter": "python",
   "pygments_lexer": "ipython3",
   "version": "3.7.4"
  }
 },
 "nbformat": 4,
 "nbformat_minor": 2
}
