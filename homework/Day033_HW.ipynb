{
 "cells": [
  {
   "cell_type": "markdown",
   "metadata": {},
   "source": [
    "# 反爬：登入授權模擬\n",
    "\n",
    "* 了解「登入權限機制」的反爬蟲機制\n",
    "* 「登入權限機制」反爬蟲的因應策略"
   ]
  },
  {
   "cell_type": "markdown",
   "metadata": {},
   "source": [
    "## 作業目標\n",
    "\n",
    "* 找一個需要登入的網站試試看，並說明思考流程\n",
    "（如果不知道要用哪個網站的話，可以試試看 https://github.com/new 網址，未登入時會被導向登入頁）\n",
    "\n"
   ]
  },
  {
   "cell_type": "code",
   "execution_count": 1,
   "metadata": {},
   "outputs": [],
   "source": [
    "import requests\n",
    "from bs4 import BeautifulSoup"
   ]
  },
  {
   "cell_type": "code",
   "execution_count": 2,
   "metadata": {},
   "outputs": [
    {
     "data": {
      "text/plain": [
       "'              Sign in to GitHub · GitHub                                                      Skip to content         GitHub no longer supports this web browser.           Learn more about the browsers we support.                           Sign in to GitHub                            Username or email address                    Password Forgot password?                 New to GitHub?        Create an account.           Terms Privacy Security Contact GitHub           You can’t perform that action at this time.           You signed in with another tab or window. Reload to refresh your session. You signed out in another tab or window. Reload to refresh your session.                '"
      ]
     },
     "execution_count": 2,
     "metadata": {},
     "output_type": "execute_result"
    }
   ],
   "source": [
    "response = requests.get(\"https://github.com/new\")\n",
    "soup = BeautifulSoup(response.text.replace(\"\\n\", \"\"))\n",
    "soup.text"
   ]
  },
  {
   "cell_type": "code",
   "execution_count": 3,
   "metadata": {},
   "outputs": [
    {
     "data": {
      "text/plain": [
       "'             Create a New Repository                                                         Skip to content                                       Search               All GitHub       ↵        Jump to      ↵    No suggested jump to results                     Search               All GitHub       ↵        Jump to      ↵                      Search               All GitHub       ↵        Jump to      ↵              Pull requests     Issues          Marketplace      Explore                New repository     Import repository    New gist     New organization       New project             Signed in as johnny6464              Set status           Edit status                   Could not update your status, please try again.                80 remaining                 Suggestions:     🌴                            On vacation                            🤒                            Out sick                              🏠                            Working from home                            🎯                            Focusing                                                  Busy                                   When others mention you, assign you, or request your review,                  GitHub will let them know that you have limited availability.                         Clear status             Never            Never Keep this status until you clear your status or edit your status.                 in 30 minutes                         in 1 hour                         in 4 hours                         today                         this week                              Set status                       Clear status                Your profile Your repositories Your projects Your stars Your gists       Feature preview    Help Settings          Sign out                            Create a new repository       A repository contains all project files, including the revision history.        Already have a project repository elsewhere? Import a repository.     Owner        johnny6464                  johnny6464         /  Repository name             Great repository names are short and memorable. Need inspiration? How about        psychic-octo-tribble?        Description (optional)               Public                      Anyone can see this repository. You choose who can commit.                   You may not create public repositories by organization policy.                      Private                    You choose who can see and commit to this repository.                   You may not create private repositories by organization policy.                   Due to U.S. trade controls law restrictions, paid GitHub organization services have been restricted.For free organization accounts, you may have access to free GitHub public repository services (such as access to GitHub Pages and public repositories used for open source projects) for personal communications only, and not for commercial purposes. The restriction also includes suspended access to private repository services and paid services (such as availability of private organizational accounts and GitHub Marketplace services).Please read about GitHub and Trade Controls for more information.                   Due to U.S. trade controls law restrictions, your GitHub account has been restricted.This means we have suspended access to private repository services and paid services for your account. For free individual accounts, you still have access to free GitHub public repository services (such as public repositories for open source projects and associated GitHub Pages and Gists).If you believe your account has been flagged in error, and you are not located in or resident in a sanctioned region, please file an appeal.Please read about GitHub and Trade Controls for more information.                   Your current plan does not support private repositories.                          Your organization\\'s owners will need to upgrade to Team.                     Skip this step if you’re importing an existing repository.                Initialize this repository with a README                       This will let you immediately clone the repository to your computer.                Add .gitignore: None    .gitignore            None            Actionscript     Ada     Agda     Android     AppEngine     AppceleratorTitanium     ArchLinuxPackages     Autotools     C     C++     CFWheels     CMake     CUDA     CakePHP     ChefCookbook     Clojure     CodeIgniter     CommonLisp     Composer     Concrete5     Coq     CraftCMS     D     DM     Dart     Delphi     Drupal     EPiServer     Eagle     Elisp     Elixir     Elm     Erlang     ExpressionEngine     ExtJs     Fancy     Finale     ForceDotCom     Fortran     FuelPHP     GWT     GitBook     Go     Godot     Gradle     Grails     Haskell     IGORPro     Idris     JENKINS_HOME     Java     Jboss     Jekyll     Joomla     Julia     KiCAD     Kohana     Kotlin     LabVIEW     Laravel     Leiningen     LemonStand     Lilypond     Lithium     Lua     Magento     Maven     Mercury     MetaProgrammingSystem     Nim     Node     OCaml     Objective-C     Opa     OracleForms     Packer     Perl     Perl6     Phalcon     PlayFramework     Plone     Prestashop     Processing     PureScript     Python     Qooxdoo     Qt     R     ROS     Rails     RhodesRhomobile     Ruby     Rust     SCons     Sass     Scala     Scheme     Scrivener     Sdcc     SeamGen     SketchUp     Smalltalk     SugarCRM     Swift     Symfony     SymphonyCMS     TeX     Terraform     Textpattern     TurboGears2     Typo3     Umbraco     Unity     UnrealEngine     VVVV     VisualStudio     Waf     WordPress     Xojo     Yeoman     Yii     ZendFramework     Zephir     gcov     nanoc     opencart     stella   Nothing to show       Add a license: None     Licenses                        None                           Apache License 2.0                             GNU General Public License v3.0                             MIT License                             BSD 2-Clause \"Simplified\" License                             BSD 3-Clause \"New\" or \"Revised\" License                             Creative Commons Zero v1.0 Universal                             Eclipse Public License 2.0                             GNU Affero General Public License v3.0                             GNU General Public License v2.0                             GNU Lesser General Public License v2.1                             GNU Lesser General Public License v3.0                             Mozilla Public License 2.0                             The Unlicense                        No results found.                               Create repository                 You don’t appear to have permission to create repositories for this organization. Sorry about that.              © 2020 GitHub, Inc. Terms Privacy Security Status Help     Contact GitHub Pricing API Training Blog About              You can’t perform that action at this time.           You signed in with another tab or window. Reload to refresh your session. You signed out in another tab or window. Reload to refresh your session.                '"
      ]
     },
     "execution_count": 3,
     "metadata": {},
     "output_type": "execute_result"
    }
   ],
   "source": [
    "cookies={\n",
    "    'dotcom_user': 'johnny6464',\n",
    "    'logged_in': 'yes',\n",
    "    'user_session': '*******'\n",
    "}\n",
    "\n",
    "response = requests.get(\"https://github.com/new\", cookies=cookies)\n",
    "soup = BeautifulSoup(response.text.replace(\"\\n\",\"\"))\n",
    "soup.text"
   ]
  },
  {
   "cell_type": "markdown",
   "metadata": {},
   "source": [
    "- 思考流程\n",
    "加上login相關的cookies就可以成功登入了"
   ]
  }
 ],
 "metadata": {
  "kernelspec": {
   "display_name": "Python 3",
   "language": "python",
   "name": "python3"
  },
  "language_info": {
   "codemirror_mode": {
    "name": "ipython",
    "version": 3
   },
   "file_extension": ".py",
   "mimetype": "text/x-python",
   "name": "python",
   "nbconvert_exporter": "python",
   "pygments_lexer": "ipython3",
   "version": "3.7.4"
  }
 },
 "nbformat": 4,
 "nbformat_minor": 2
}
